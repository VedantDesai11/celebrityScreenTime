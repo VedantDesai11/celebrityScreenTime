{
  "nbformat": 4,
  "nbformat_minor": 0,
  "metadata": {
    "colab": {
      "name": "CelebrityScreenTime.ipynb",
      "provenance": [],
      "collapsed_sections": [],
      "mount_file_id": "1dCEMEGwuXlwfWjwBiNwHh8IU37f4OUjo",
      "authorship_tag": "ABX9TyO5mrOI5oPVFvP98pLZIAXo"
    },
    "kernelspec": {
      "name": "python3",
      "display_name": "Python 3"
    },
    "accelerator": "GPU"
  },
  "cells": [
    {
      "cell_type": "markdown",
      "metadata": {
        "id": "q2OqDpJkylEz",
        "colab_type": "text"
      },
      "source": [
        "# Celebrity Screen Time Calculator\n",
        "\n",
        "---\n",
        "\n"
      ]
    },
    {
      "cell_type": "code",
      "metadata": {
        "id": "dJ1Scrxhqwcf",
        "colab_type": "code",
        "colab": {
          "base_uri": "https://localhost:8080/",
          "height": 394
        },
        "outputId": "9c169f26-ed36-44d8-b0a8-aa4a89280646"
      },
      "source": [
        "# Required packages for running this program\n",
        "\n",
        "!pip install face_recognition opencv-python numpy sklearn"
      ],
      "execution_count": 1,
      "outputs": [
        {
          "output_type": "stream",
          "text": [
            "Collecting face_recognition\n",
            "  Downloading https://files.pythonhosted.org/packages/1e/95/f6c9330f54ab07bfa032bf3715c12455a381083125d8880c43cbe76bb3d0/face_recognition-1.3.0-py2.py3-none-any.whl\n",
            "Requirement already satisfied: opencv-python in /usr/local/lib/python3.6/dist-packages (4.1.2.30)\n",
            "Requirement already satisfied: numpy in /usr/local/lib/python3.6/dist-packages (1.18.5)\n",
            "Requirement already satisfied: sklearn in /usr/local/lib/python3.6/dist-packages (0.0)\n",
            "Requirement already satisfied: dlib>=19.7 in /usr/local/lib/python3.6/dist-packages (from face_recognition) (19.18.0)\n",
            "Collecting face-recognition-models>=0.3.0\n",
            "\u001b[?25l  Downloading https://files.pythonhosted.org/packages/cf/3b/4fd8c534f6c0d1b80ce0973d01331525538045084c73c153ee6df20224cf/face_recognition_models-0.3.0.tar.gz (100.1MB)\n",
            "\u001b[K     |████████████████████████████████| 100.2MB 63kB/s \n",
            "\u001b[?25hRequirement already satisfied: Click>=6.0 in /usr/local/lib/python3.6/dist-packages (from face_recognition) (7.1.2)\n",
            "Requirement already satisfied: Pillow in /usr/local/lib/python3.6/dist-packages (from face_recognition) (7.0.0)\n",
            "Requirement already satisfied: scikit-learn in /usr/local/lib/python3.6/dist-packages (from sklearn) (0.22.2.post1)\n",
            "Requirement already satisfied: scipy>=0.17.0 in /usr/local/lib/python3.6/dist-packages (from scikit-learn->sklearn) (1.4.1)\n",
            "Requirement already satisfied: joblib>=0.11 in /usr/local/lib/python3.6/dist-packages (from scikit-learn->sklearn) (0.16.0)\n",
            "Building wheels for collected packages: face-recognition-models\n",
            "  Building wheel for face-recognition-models (setup.py) ... \u001b[?25l\u001b[?25hdone\n",
            "  Created wheel for face-recognition-models: filename=face_recognition_models-0.3.0-py2.py3-none-any.whl size=100566172 sha256=716c009a72ac25889414548f52d5c94c539244adb2f45bbf70ddc8e17bce8eea\n",
            "  Stored in directory: /root/.cache/pip/wheels/d2/99/18/59c6c8f01e39810415c0e63f5bede7d83dfb0ffc039865465f\n",
            "Successfully built face-recognition-models\n",
            "Installing collected packages: face-recognition-models, face-recognition\n",
            "Successfully installed face-recognition-1.3.0 face-recognition-models-0.3.0\n"
          ],
          "name": "stdout"
        }
      ]
    },
    {
      "cell_type": "code",
      "metadata": {
        "id": "WF9KWPfucSei",
        "colab_type": "code",
        "colab": {}
      },
      "source": [
        "# Required imports\n",
        "\n",
        "import cv2\n",
        "import face_recognition\n",
        "import numpy\n",
        "import time\n",
        "from google.colab.patches import cv2_imshow\n",
        "from sklearn import svm\n",
        "import os"
      ],
      "execution_count": 2,
      "outputs": []
    },
    {
      "cell_type": "code",
      "metadata": {
        "id": "E_a6ZALJwMZu",
        "colab_type": "code",
        "colab": {}
      },
      "source": [
        "# Train multiple images per person\n",
        "# Find and recognize faces in an image using a SVC with scikit-learn\n",
        "\n",
        "# The training data would be all the face encodings from all the known images and the labels are their names\n",
        "encodings = []\n",
        "names = []\n",
        "\n",
        "# Training directory\n",
        "train_dir = os.listdir('/content/drive/My Drive/data/train/')\n",
        "train_directory = '/content/drive/My Drive/data/train/'\n",
        "\n",
        "# Loop through each person in the training directory\n",
        "for person in train_dir:\n",
        "\n",
        "\tpersonPictures = os.listdir(train_directory + person)\n",
        "\n",
        "\t# Loop through each training image for the current person\n",
        "\tfor person_img in personPictures:\n",
        "\n",
        "\t\t# Get the face encodings for the face in each image file\n",
        "\t\tface = face_recognition.load_image_file(train_directory + person + \"/\" + person_img)\n",
        "\t\tface_bounding_boxes = face_recognition.face_locations(face)\n",
        "\n",
        "\t\t#If training image contains exactly one face\n",
        "\t\tif len(face_bounding_boxes) == 1:\n",
        "\t\t\tface_enc = face_recognition.face_encodings(face)[0]\n",
        "\t\t\t# Add face encoding for current image with corresponding label (name) to the training data\n",
        "\t\t\tencodings.append(face_enc)\n",
        "\t\t\tnames.append(person)\n",
        "\t\telse:\n",
        "\t\t\tprint(person + \"/\" + person_img + \" was skipped and can't be used for training\")\n",
        "\n",
        "print(\"Training Complete.\")"
      ],
      "execution_count": null,
      "outputs": []
    },
    {
      "cell_type": "markdown",
      "metadata": {
        "id": "POE8Ol0fzBUm",
        "colab_type": "text"
      },
      "source": [
        "Training data format:\n",
        "\n",
        "*   Train/\n",
        "    *   Celebrity1/\n",
        "        * Celebrity1image1.jpg\n",
        "        * Celebrity1image2.jpg\n",
        "        * Celebrity1image3.jpg\n",
        "    *   Celebrity2.\n",
        "        * Celebrity2image1.jpg\n",
        "        * Celebrity2image2.jpg\n",
        "        * Celebrity2image3.jpg\n",
        "    *   Celebrity3.\n",
        "        * Celebrity2image1.jpg\n",
        "        * Celebrity2image2.jpg\n",
        "        * Celebrity2image3.jpg\n",
        "\n"
      ]
    },
    {
      "cell_type": "code",
      "metadata": {
        "id": "YgnzUfEs7Vwu",
        "colab_type": "code",
        "colab": {
          "base_uri": "https://localhost:8080/",
          "height": 85
        },
        "outputId": "9e9af2fa-a9cc-4c82-cfa0-86312ddac344"
      },
      "source": [
        "# Create and train the SVC classifier\n",
        "\n",
        "clf = svm.SVC(gamma='scale')\n",
        "clf.fit(encodings, names) #encodings are from the image, names are the labels for these encodings"
      ],
      "execution_count": 4,
      "outputs": [
        {
          "output_type": "execute_result",
          "data": {
            "text/plain": [
              "SVC(C=1.0, break_ties=False, cache_size=200, class_weight=None, coef0=0.0,\n",
              "    decision_function_shape='ovr', degree=3, gamma='scale', kernel='rbf',\n",
              "    max_iter=-1, probability=False, random_state=None, shrinking=True,\n",
              "    tol=0.001, verbose=False)"
            ]
          },
          "metadata": {
            "tags": []
          },
          "execution_count": 4
        }
      ]
    },
    {
      "cell_type": "markdown",
      "metadata": {
        "id": "qt6AAwaLzw0N",
        "colab_type": "text"
      },
      "source": [
        "# Use this classifier to detect which celebrity is on screen."
      ]
    },
    {
      "cell_type": "code",
      "metadata": {
        "id": "1mQP4mhuuEO7",
        "colab_type": "code",
        "colab": {
          "base_uri": "https://localhost:8080/",
          "height": 51
        },
        "outputId": "04e21eea-b834-45d7-be97-09683cd878b4"
      },
      "source": [
        "from google.colab.patches import cv2_imshow\n",
        "import math\n",
        "\n",
        "# import the video file\n",
        "capture = cv2.VideoCapture('/content/drive/My Drive/The.Office.S03E02.mkv') # Uplaod your video file here\n",
        "\n",
        "# initialize variables \n",
        "frames_Micheal_is_in = 0\n",
        "current_frame = 0\n",
        "process_This = True\n",
        "resize_factor = 0.25\n",
        "\n",
        "# Calculate total frames, fps and duration of video in minutes\n",
        "total_frames = int(capture.get(cv2.CAP_PROP_FRAME_COUNT))\n",
        "fps = capture.get(cv2.CAP_PROP_FPS)     \n",
        "duration = total_frames/(fps*60)\n",
        "\n",
        "# \n",
        "print(\"Width:{} x Height:{}\".format(int(capture.get(cv2.CAP_PROP_FRAME_WIDTH)), int(capture.get(cv2.CAP_PROP_FRAME_HEIGHT))))\n",
        "\n",
        "# Width and height of video with resize factor\n",
        "width = int(capture.get(cv2.CAP_PROP_FRAME_WIDTH)) * resize_factor \n",
        "height = int(capture.get(cv2.CAP_PROP_FRAME_HEIGHT)) * resize_factor\n",
        "\n",
        "print(\"Resized Width:{} x Height:{}\".format(int(width), int(height)))"
      ],
      "execution_count": 13,
      "outputs": [
        {
          "output_type": "stream",
          "text": [
            "Width:1280 x Height:720\n",
            "Resized Width:320 x Height:180\n"
          ],
          "name": "stdout"
        }
      ]
    },
    {
      "cell_type": "code",
      "metadata": {
        "id": "XWv4N0nWZHsH",
        "colab_type": "code",
        "colab": {
          "base_uri": "https://localhost:8080/",
          "height": 221
        },
        "outputId": "a67d1697-b764-409f-c854-f0053719a4c1"
      },
      "source": [
        "t0 = time.time()\n",
        "\n",
        "while capture.isOpened():\n",
        "    ret, frame = capture.read()\n",
        "    if ret:\n",
        "        current_frame += 1\n",
        "        if process_This:\n",
        "            frame = cv2.resize(frame, (0, 0), fx=resize_factor, fy=resize_factor)\n",
        "\n",
        "            # Finding all the faces on this frame and storing their encodings\n",
        "            face_encodings = face_recognition.face_encodings(frame)\n",
        "\n",
        "            for face_encoding in face_encodings:\n",
        "\n",
        "                # Checking each face encoding with our classifier for matches\n",
        "                name = clf.predict([face_encoding])\n",
        "\n",
        "                #If the output label is Steve Carrell, He is in the frame\n",
        "                if name == 'Steve Carrell':\n",
        "                    #cv2_imshow(frame)  # This displays all the frames Steve Carrell is in\n",
        "                    frames_Micheal_is_in += 1\n",
        "            \n",
        "        if current_frame % (total_frames//10) == 0:\n",
        "            print(\"{}% video processed.\".format(math.ceil((current_frame/total_frames) * 100)))\n",
        "\n",
        "        process_This = not process_This\n",
        "\n",
        "    if current_frame == total_frames:\n",
        "        break\n",
        "\n",
        "print(\"Time taken to process video of resolution {}x{} = {:.2f} minutes\".format(int(width), int(height), ((time.time() - t0)/ 60)))\n",
        "print(\"Duration of episode is {:.2f} minutes. Micheal Scott (Steve Carrell) is on screen for {:.2f} minutes.\".format(duration, ((2*frames_Micheal_is_in)/(fps*60))))"
      ],
      "execution_count": 14,
      "outputs": [
        {
          "output_type": "stream",
          "text": [
            "10% video processed.\n",
            "20% video processed.\n",
            "30% video processed.\n",
            "40% video processed.\n",
            "50% video processed.\n",
            "60% video processed.\n",
            "70% video processed.\n",
            "80% video processed.\n",
            "90% video processed.\n",
            "100% video processed.\n",
            "Time taken to process video of resolution 320x180 = 14.59 minutes\n",
            "Duration of episode is 21.46 minutes. Micheal Scott (Steve Carrell) is on screen for 6.12 minutes.\n"
          ],
          "name": "stdout"
        }
      ]
    }
  ]
}